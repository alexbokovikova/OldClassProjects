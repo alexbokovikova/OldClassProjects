{
  "metadata": {
    "kernelspec": {
      "name": "python",
      "display_name": "Python (Pyodide)",
      "language": "python"
    },
    "language_info": {
      "codemirror_mode": {
        "name": "python",
        "version": 3
      },
      "file_extension": ".py",
      "mimetype": "text/x-python",
      "name": "python",
      "nbconvert_exporter": "python",
      "pygments_lexer": "ipython3",
      "version": "3.8"
    },
    "colab": {
      "name": "ShreyaHomework 2.ipynb",
      "provenance": []
    }
  },
  "nbformat_minor": 4,
  "nbformat": 4,
  "cells": [
    {
      "cell_type": "code",
      "source": "import numpy as np\nimport matplotlib.pyplot as plt\n%matplotlib inline\nfrom IPython.core.debugger import set_trace",
      "metadata": {
        "id": "fK_6XaHj_Bvu",
        "trusted": true
      },
      "outputs": [],
      "execution_count": null
    },
    {
      "cell_type": "code",
      "source": "def check_type(y,t): # Ensure Input is Correct\n    return y.dtype == np.floating and t.dtype == np.floating\n\nclass _Integrator():\n    \n    def integrate(self,func,y0,t):\n        time_delta_grid = t[1:] - t[:-1]\n        \n        y = np.zeros((y0.shape[0],t.shape[0]))\n        y[:,0] = y0\n        \n        # Euler Step or Runge-Kutta Second Order Integration Step\n        for i in range(time_delta_grid.shape[0]):\n            y[:,i+1] = time_delta_grid[i]*func(y[:,i],t[i])+y[:,i] # Euler Integration Step\n            \n            #Un-Comment the next three lines to use the Runge-Kutta Second Order Integration\n            #k1=(1/2)*time_delta_grid[i]*func(y[:,i],t[i])\n            #breakpoint()\n            #y[:,i+1] = y[:,i]+time_delta_grid[i]*func(y[:,i]+k1,t[i]+time_delta_grid[i]/2)\n            \n        return y\n       \n        #Runge-Kutta Fourth Order Integration Step\n        #for i in range(time_delta_grid.shape[0]):\n            #k1 = func(y[:,i], t[i])# RK4 Integration Steps replace Euler's Updation Steps\n            #half_step = t[i] + time_delta_grid[i] / 2\n            #k2 = func(y[:,i] + time_delta_grid[i] * k1 / 2, half_step)\n            #k3 = func(y[:,i] + time_delta_grid[i] * k2 / 2, half_step)\n            #k4 = func(y[:,i] + time_delta_grid[i] * k3, t + time_delta_grid[i])\n            #y[:,i+1]= (k1 + 2 * k2 + 2 * k3 + k4) * (time_delta_grid[i] / 6) + y[:,i]\n        #return y\n\n\ndef odeint_rk4(func,y0,t):\n    y0 = np.array(y0)\n    t = np.array(t)\n    if check_type(y0,t):\n        return _Integrator().integrate(func,y0,t)\n    else:\n        print(\"error encountered\")\n        \n\nclass _Integrator_RK2():\n    \n    def integrate_RK2(self,func,y0,t):\n        time_delta_grid = t[1:] - t[:-1]\n        \n        y = np.zeros((y0.shape[0],t.shape[0]))\n        y[:,0] = y0\n        \n        # Euler Step or Runge-Kutta Second Order Integration Step\n        for i in range(time_delta_grid.shape[0]):\n            y[:,i+1] = time_delta_grid[i]*func(y[:,i],t[i])+y[:,i] # Euler Integration Step\n            \n            #Un-Comment the next three lines to use the Runge-Kutta Second Order Integration\n            k1=(1/2)*time_delta_grid[i]*func(y[:,i],t[i])\n            breakpoint()\n            y[:,i+1] = y[:,i]+time_delta_grid[i]*func(y[:,i]+k1,t[i]+time_delta_grid[i]/2)\n            \n        return y\n       \n        #Runge-Kutta Fourth Order Integration Step\n        #for i in range(time_delta_grid.shape[0]):\n            #k1 = func(y[:,i], t[i])# RK4 Integration Steps replace Euler's Updation Steps\n            #half_step = t[i] + time_delta_grid[i] / 2\n            #k2 = func(y[:,i] + time_delta_grid[i] * k1 / 2, half_step)\n            #k3 = func(y[:,i] + time_delta_grid[i] * k2 / 2, half_step)\n            #k4 = func(y[:,i] + time_delta_grid[i] * k3, t + time_delta_grid[i])\n            #y[:,i+1]= (k1 + 2 * k2 + 2 * k3 + k4) * (time_delta_grid[i] / 6) + y[:,i]\n        #return y\n        \ndef odeint_rk2(func,y0,t):\n    y0 = np.array(y0)\n    t = np.array(t)\n    if check_type(y0,t):\n        return _Integrator_RK2().integrate_RK2(func,y0,t)\n    else:\n        print(\"error encountered\")\n        \nclass _Integrator_RK4():\n    \n    def integrate_RK4(self,func,y0,t):\n        time_delta_grid = t[1:] - t[:-1]\n        \n        y = np.zeros((y0.shape[0],t.shape[0]))\n        y[:,0] = y0\n        \n        #Runge-Kutta Fourth Order Integration Step\n        for i in range(time_delta_grid.shape[0]):\n            k1 = func(y[:,i], t[i])# RK4 Integration Steps replace Euler's Updation Steps\n            half_step = t[i] + time_delta_grid[i] / 2\n            k2 = func(y[:,i] + time_delta_grid[i] * k1 / 2, half_step)\n            k3 = func(y[:,i] + time_delta_grid[i] * k2 / 2, half_step)\n            k4 = func(y[:,i] + time_delta_grid[i] * k3, t + time_delta_grid[i])\n            y[:,i+1]= (k1 + 2 * k2 + 2 * k3 + k4) * (time_delta_grid[i] / 6) + y[:,i]\n        return y\n    \ndef odeint_rk4_2(func,y0,t):\n    y0 = np.array(y0)\n    t = np.array(t)\n    if check_type(y0,t):\n        return _Integrator_RK4().integrate_RK4(func,y0,t)\n    else:\n        print(\"error encountered\")",
      "metadata": {
        "trusted": true
      },
      "outputs": [],
      "execution_count": null
    },
    {
      "cell_type": "code",
      "source": "The letters C, V , t and τ , g, and I denote capacitance density, voltage, time, conductance density, and current density, respectively. <br>The units that we use for these quantities are μF/cm2, mV, ms, mS/cm2, and μA/cm2.<br>\nFor brevity, units will usually be omitted from here on. The parameter values of the\nmodel are C = 1, gNa = 100, gK = 80, gL = 0.1, VNa = 50, VK = − 100, and\nVL = − 67.\n<br>\nThis model is a variation on one proposed by Ermentrout and Kopell (1998); the\ndifference is that in Ermentrout and Kopell (1998), the gating variable h was taken\nto be a function of n. The model of Ermentrout and Kopell (1998), in turn, is a\nreduction of a model due to Traub and Miles (1991).<br>\nFast-spiking interneurons: For fast-spiking interneurons, we use the Wang and\nBuzs ́aki (1996) model.<br>\nEquations (1), (2), (3), and (4) are as in the pyramidal cell model. <br>Equation (5) is replaced by\n<br><br>\nτx (V ) = 0.2 / αx (V ) + βx (V ) for x = h or n (5)\n<br><br>\nThe rate functions αx and βx , x = m, h, and n, are defined as follows:\n<br><br>\nαm(V ) = 0.1(V + 35) / 1 − exp(−(V + 35)/10)<br>\nβm(V ) = 4 exp( −(V + 60)/18)\n<br><br>\nαh(V ) = 0.07 exp(−(V + 58)/20)<br>\nβh(V ) = 1 / exp(−0.1(V + 28)) + 1\n<br><br>\nαn(V ) = 0.01(V + 34) / 1 − exp(−0.1(V + 34))<br>\nβn(V ) = 0.125 exp(−(V + 44)/80)",
      "metadata": {
        "trusted": true
      },
      "outputs": [],
      "execution_count": null
    },
    {
      "cell_type": "code",
      "source": "C_m = 1      # Membrane Capacitance - μF/cm2\n\ng_K = 10 # μA/cm2\nE_K = -95 # mV\n\ng_Na = 100 # μA/cm2\nE_Na = 50 # mV\n\ng_L = 0.15 # μA/cm2\nE_L = -55 # mV",
      "metadata": {
        "id": "d0a1LdS6_Bv0",
        "trusted": true
      },
      "outputs": [],
      "execution_count": null
    },
    {
      "cell_type": "code",
      "source": "def f(x):\n    \n    if abs(x)<1e-12: \n        x=1\n    elif x < -20:\n        ex = np.exp(x)\n        x = -x*ex/(1-ex)\n    else: \n        x = x/(1-np.exp(-x))\n    return x\n\ndef g(x):\n    x = x/(np.exp(x)-1)\n    return x\n\ndef h(x):\n    if x < -20:\n        x = np.exp(x)/(np.exp(x)+1)\n    else: x = 1/(1+np.exp(-x))\n    return x\n\ndef K_prop(v):\n\n#αn(V ) = 0.032(V + 52)/(1 − exp(−(V + 52)/5))\n    def alpha_n(v):\n        u= (v+52)/5\n        return 0.032*5*f(u)\n    beta_n=0.5*np.exp(-(v+65)/80)\n\n    def n_inf(v):\n        return (alpha_n(v)/(alpha_n(v)+ beta_n))\n        #set_trace()\n    def tau_n(v):\n        return (1/(alpha_n(v)+beta_n))\n    #set_trace()\n    return n_inf(v), tau_n(v)\n\n\ndef Na_prop(v):\n    \n#αm(V) = 0.32(V + 54)/(1 − exp(−(V + 54)/4))\n#βm (V ) = 0.28(V + 27)/(exp((V + 27)/5) − 1)\n\n    def alpha_m(v):\n        u = (v+54)/4\n        return 4*0.32*f(u)\n    \n    def beta_m(v):\n        u =(v+27)/5\n        return 5*0.28*g(u)\n\n    def m_inf(v):\n        return (alpha_m(v)/(alpha_m(v)+beta_m(v)))\n    \n    def tau_m(v):\n        return (1 / (alpha_m(v) + beta_m(v)))\n\n#αh(V) = 0.128 exp(−(V + 50)/18)\n#βh(V) = 4/(1 + exp(−(V + 27)/5)\n\n    alpha_h = 0.128*np.exp(-(v+50)/18)\n                                 \n    def beta_h(v):\n        u = (v+27)/5\n        return 4*h(u)\n    \n    def h_inf(v):\n        return (alpha_h/(alpha_h+beta_h(v)))\n    \n    def tau_h(v):\n        return 1/(alpha_h+beta_h(v))\n    #set_trace()\n    \n    return m_inf(v), tau_m(v), h_inf(v), tau_h(v)\n",
      "metadata": {
        "id": "yO8uVSP8_Bv1",
        "trusted": true
      },
      "outputs": [],
      "execution_count": null
    },
    {
      "cell_type": "code",
      "source": "def I_K(V, n):\n    return g_K  * n**4 * (V - E_K)\n\ndef I_Na(V, m, h):\n    return g_Na * m**3 * h * (V - E_Na)\n\ndef I_L(V):\n    return g_L * (V - E_L)",
      "metadata": {
        "id": "8bdWC7Mc_Bv5",
        "trusted": true
      },
      "outputs": [],
      "execution_count": null
    },
    {
      "cell_type": "code",
      "source": "def gPot(n):\n    return g_K * n**4\n\ndef gSod():\n    return ",
      "metadata": {
        "trusted": true
      },
      "outputs": [],
      "execution_count": null
    },
    {
      "cell_type": "code",
      "source": "def run_HH(v_clamp):\n    \n    def dXdt(X,t):\n        V = v_clamp\n        #V = X[0:1]\n        m = X[0:1]\n        h = X[1:2]\n        n = X[2:3]\n\n        #dVdt = (5 - I_Na(V, m, h) - I_K(V, n) - I_L(V)) / C_m \n        # Here the current injection I_injected = 5 uA\n        \n        \n        \n        n0,tn = K_prop(V)\n        #set_trace()\n        m0,tm,h0,th = Na_prop(V)\n        \n        dmdt = - (1.0/tm)*(m-m0)\n        dhdt = - (1.0/th)*(h-h0)\n        dndt = - (1.0/tn)*(n-n0)\n\n        out = np.concatenate([dmdt,dhdt,dndt],0)\n        return out\n\n    V=v_clamp\n    epsilon = 0.01\n    t = np.arange(0, 3, epsilon)\n    y0 = np.float64([0,1,0])\n    state = odeint_rk4(dXdt, y0, t)\n    \n\n    #V = state[3]\n    m = state[0]\n    h = state[1]\n    n = state[2]\n    \n    i_na = I_Na(V, m, h)\n    i_k = I_K(V, n)\n    i_l = I_L(V)\n    #current of membrane = -dIi/dx = dIo/dx where Io is current outside and Ii is current inside\n    i_m = i_na + i_k + i_l\n    \n    #dVo/dx = -Io*ro (resistance)\n    #dVi/dx = -Ii*ri\n    #dVm/dx = dVi/dx - dVo/dx = -Iiri + Ioro\n    #take second derivative of dVm/dx which is equal to = (-dIi/dx * ri) + (dI0/dx * ro)\n    #d2Vm/dx2 = Im(ro+ri)\n    \n    fig, ax = plt.subplots(1)\n    ax.set_title(\"Voltage Clamp = \" + str(v_clamp) + \"V\")\n    ax.set_xlabel(\"Time\")\n    ax.plot(t, m**3, label = \"m^3\")\n    ax.plot(t, h, label = \"h\")\n    ax.plot(t, m**3*h, label= \"m^3h\")\n    ax.legend()\n    \n    return",
      "metadata": {
        "id": "uaxfM5g1_Bv6",
        "trusted": true
      },
      "outputs": [],
      "execution_count": null
    },
    {
      "cell_type": "code",
      "source": "# Step the voltages to 0, +30, and +60 mV\n# Plot the activations of each\nrun_HH(0)\nrun_HH(30)\nrun_HH(60)",
      "metadata": {
        "id": "DXtvPLx4_Bv8",
        "outputId": "ecf89f93-8f37-4817-c3e1-6081760709e9",
        "trusted": true
      },
      "outputs": [],
      "execution_count": null
    },
    {
      "cell_type": "markdown",
      "source": "__Question 1__",
      "metadata": {}
    },
    {
      "cell_type": "code",
      "source": "def run_HH_graph(v_clamp):\n    \n    def dXdt(X,t):\n        V = v_clamp\n        #V = X[0:1]\n        m = X[0:1]\n        h = X[1:2]\n        n = X[2:3]\n\n        #dVdt = (5 - I_Na(V, m, h) - I_K(V, n) - I_L(V)) / C_m \n        # Here the current injection I_injected = 5 uA\n        \n        \n        \n        n0,tn = K_prop(V)\n        #set_trace()\n        m0,tm,h0,th = Na_prop(V)\n        \n        dmdt = - (1.0/tm)*(m-m0)\n        dhdt = - (1.0/th)*(h-h0)\n        dndt = - (1.0/tn)*(n-n0)\n\n        out = np.concatenate([dmdt,dhdt,dndt],0)\n        return out\n\n    V=v_clamp\n    epsilon = 0.01\n    t = np.arange(0, 3, epsilon)\n    y0 = np.float64([0,1,0])\n    \n    state = odeint_rk4(dXdt, y0, t)\n    \n\n    #V = state[3]\n    m = state[0]\n    h = state[1]\n    n = state[2]\n    \n    i_na = I_Na(V, m, h)\n    i_k = I_K(V, n)\n    i_l = I_L(V)\n    i_m = i_na + i_k + i_l\n    \n    fig, ax = plt.subplots(1)\n    ax.set_title(\"Currents when Voltage Clamp = \" + str(v_clamp) + \"mV\")\n    ax.set_xlabel(\"Time\")\n    #ax.plot(t, m**3, label = \"m^3\")\n    #ax.plot(t, h, label = \"h\")\n    #ax.plot(t, m**3*h, label= \"m^3h\")\n    ax.plot(t, i_na, label=\"i_na\")\n    ax.plot(t, i_k, label='i_k')\n    ax.plot(t, i_m, label='i_membrane')\n    #ax.plot(v_clamp, label='V_c')\n    ax.legend()\n    \n    return",
      "metadata": {
        "trusted": true
      },
      "outputs": [],
      "execution_count": null
    },
    {
      "cell_type": "code",
      "source": "#Where voltage = 0\nrun_HH_graph(0)",
      "metadata": {
        "trusted": true
      },
      "outputs": [],
      "execution_count": null
    },
    {
      "cell_type": "markdown",
      "source": "Explanation of flow of Na ions:\n\nAt time 0, there is a higher concentration of Na+ ions outside of the cell than inside of the cell. Then, K+ diffuse out of the cell which causes the cell to become more polarized due to a higher presence of positive ions inside of the cell and negative ions outside of the cell. Once this happens, the Na+ channels open, which causes the cell to depolarize as the Na+ ions exit the cell.",
      "metadata": {}
    },
    {
      "cell_type": "code",
      "source": "#Where voltage = 30\n\nrun_HH_graph(30)",
      "metadata": {
        "trusted": true
      },
      "outputs": [],
      "execution_count": null
    },
    {
      "cell_type": "markdown",
      "source": "Differences in flow of Na+ ions where Voltage Clamp = +30 mV:\n\nIn this model, the voltage of the cell does not become as negative as the previous model where voltage clamp = 0 mV. Additionally, the flow of Na+ ions stops between 0.5 and 1 second in this model, while in the Voltage Clamp = 0 mV model it stopped between 1 and 1.5 seconds. This indicates that the higher voltage clamp leads to a stronger conductance. ",
      "metadata": {}
    },
    {
      "cell_type": "code",
      "source": "#Where voltage = 60\n\nrun_HH_graph(60)",
      "metadata": {
        "trusted": true
      },
      "outputs": [],
      "execution_count": null
    },
    {
      "cell_type": "markdown",
      "source": "Difference in flow of Na+ ions where Voltage Clamp = 60+ mV:\n\nIn this model, the HH models starts at the equilibrium potential for Na+, which is 60+ mV. Therefore, we see that Na+ ions quickly enter and then exit the cell, as the Na+ channels immediately open with the voltage clamp = 60+ mV. ",
      "metadata": {}
    },
    {
      "cell_type": "markdown",
      "source": "__Question 2__\n",
      "metadata": {}
    },
    {
      "cell_type": "code",
      "source": "#Modified run_HH function that will output the activations\ndef run_HH_activations(v_clamp):\n    \n    def dXdt(X,t):\n        V = v_clamp\n        #V = X[0:1]\n        m = X[0:1]\n        h = X[1:2]\n        n = X[2:3]\n\n        #dVdt = (5 - I_Na(V, m, h) - I_K(V, n) - I_L(V)) / C_m \n        # Here the current injection I_injected = 5 uA\n\n        n0,tn = K_prop(V)\n        #set_trace()\n        m0,tm,h0,th = Na_prop(V)\n        \n        dmdt = - (1.0/tm)*(m-m0)\n        dhdt = - (1.0/th)*(h-h0)\n        dndt = - (1.0/tn)*(n-n0)\n\n        out = np.concatenate([dmdt,dhdt,dndt],0)\n        return out\n\n    V = v_clamp\n    epsilon = 0.01\n    t = np.arange(0, 3, epsilon)\n    y0 = np.float64([0,1,0])\n    \n    state = odeint_rk4(dXdt, y0, t)\n\n    #V = state[3]\n    m = state[0]\n    h = state[1]\n    n = state[2]\n    \n    i_na = I_Na(V, m, h)\n    i_k = I_K(V, n)\n    i_l = I_L(V)\n    i_m = i_na + i_k + i_l\n\n    return m, h, n",
      "metadata": {
        "trusted": true
      },
      "outputs": [],
      "execution_count": null
    },
    {
      "cell_type": "code",
      "source": "# Create a plot where you show all the activation and inactivation curves.\nm0, h0, n0 = run_HH_activations(0)\nm30, h30, n30 = run_HH_activations(30)\nm60, h60, n60 = run_HH_activations(60)\nt = np.arange(0, 3, 0.01)\n\n# Plot V=0 as blue, V=30 as red, V=60 as green\nfig, ax = plt.subplots(1)\nax.set_title(\"Activation & Inactivation Curves\")\nax.set_xlabel(\"Time\")\n\nax.plot(t, m0**3, label = \"V = 0 | m^3\", color=\"lightsteelblue\")\nax.plot(t, h0, label = \"V = 0 | h\", color=\"palegreen\")\nax.plot(t, m0**3*h0, label= \"V = 0 | m^3h\", color=\"lightcoral\")\nax.plot(t, n0, label='V = 0 | n', color=\"violet\")\n\nax.plot(t, m30**3, label = \"V = 30 | m^3\", color=\"cornflowerblue\")\nax.plot(t, h30, label = \"V = 30 | h\", color=\"limegreen\")\nax.plot(t, m30**3*h30, label= \"V = 30 | m^3h\", color=\"indianred\")\nax.plot(t, n30, label='V = 30 | n', color=\"darkviolet\")\n\nax.plot(t, m60**3, label = \"V = 60 | m^3\", color=\"royalblue\")\nax.plot(t, h60, label = \"V = 60 | h\", color=\"seagreen\")\nax.plot(t, m60**3*h60, label= \"V = 60 | m^3h\", color=\"firebrick\")\nax.plot(t, n60, label='V = 60 | n', color=\"indigo\")\nax.legend()",
      "metadata": {
        "trusted": true
      },
      "outputs": [],
      "execution_count": null
    },
    {
      "cell_type": "code",
      "source": "# Plot the time constants with respect to Voltage\n\n# Set voltage to range from 0 to 60\nVV = np.arange(0,60)\ni = 0\ntau_n = []\ntau_m = []\ntau_h = []\n\nfor i in VV:\n    n_infnew, tau_nnew = K_prop(VV[i])\n    m_infnew, tau_mnew, h_infnew, tau_hnew = Na_prop(VV[i])\n    tau_n.append(tau_nnew)\n    tau_m.append(tau_mnew)\n    tau_h.append(tau_hnew)                                                 \n    i = i+1\n\nfig, ax = plt.subplots(1)\nax.set_title(\"Time Constants (tau)\")\nax.set_xlabel(\"Voltage\")\nax.plot(VV,tau_n, label= \"tau_n\")\nax.plot(VV,tau_m, label= \"tau_m\")\nax.plot(VV,tau_h, label= \"tau_h\")\nax.legend()\n",
      "metadata": {
        "trusted": true
      },
      "outputs": [],
      "execution_count": null
    },
    {
      "cell_type": "markdown",
      "source": "__Question 3__",
      "metadata": {}
    },
    {
      "cell_type": "code",
      "source": "# Modified run_HH to introduce sin wave instead of clamp\ndef run_HH_q3(f, amp, time):\n    #f = np.arange(10,1000,10)\n\n        #amp * resistance = volts\n        # A * 1/g = V\n    wT = 2 * np.pi * f\n    V = amp * np.sin(wT)\n    epsilon = 0.01\n    t = np.arange(0, time, epsilon)\n\n    def dXdt(X, t): #units = mV / mS\n        #V = amp * np.sin(wT)\n        V = X[0:1]\n        m = X[1:2]\n        h = X[2:3]\n        n = X[3:4]\n\n        injection = .1\n        dVdt = (injection + (amp*np.sin(wT)) - I_Na(V, m, h) - I_K(V, n) - I_L(V)) / C_m \n        # Here the current injection I_injected = .1 uA\n\n        n0,tn = K_prop(V)\n        #set_trace()\n        m0,tm,h0,th = Na_prop(V)\n\n        dmdt = - (1.0/tm)*(m-m0)\n        dhdt = - (1.0/th)*(h-h0)\n        dndt = - (1.0/tn)*(n-n0)\n\n        out = np.concatenate([dVdt, dmdt, dhdt, dndt],0)\n        return out\n\n    #wT = 2 * np.pi * f\n    #V= amp * np.sin(wT)\n    #epsilon = 0.01\n    #t = np.arange(0, 3, epsilon)\n    y0 = np.float64([1,0,0,0])\n\n    state = odeint_rk4(dXdt, y0, t)\n\n    V = state[0]\n    m = state[1]\n    h = state[2]\n    n = state[3]\n\n    i_na = I_Na(V, m, h)\n    i_k = I_K(V, n)\n    i_l = I_L(V)\n    i_m = i_na + i_k + i_l\n    fig, ax = plt.subplots(1)\n    ax.set_title(\"Currents with sin wave injection where frequency =\" + str(f) + \"and amplitude =\" + str(amp))\n    ax.set_xlabel(\"Time\")\n    #ax.plot(t, m**3, label = \"m^3\")\n    #ax.plot(t, h, label = \"h\")\n    #ax.plot(t, m**3*h, label= \"m^3h\")\n    #ax.plot(t, i_na, label=\"i_na\")\n    #ax.plot(t, i_k, label='i_k')\n    ax.plot(t, i_m, label='i_membrane')\n    #ax.plot(v_clamp, label='V_c')\n    ax.legend()\n\n    \n    return i_m\n\n",
      "metadata": {
        "trusted": true
      },
      "outputs": [],
      "execution_count": null
    },
    {
      "cell_type": "code",
      "source": "run_HH_q3(.1, 10, 100)",
      "metadata": {
        "trusted": true
      },
      "outputs": [],
      "execution_count": null
    },
    {
      "cell_type": "code",
      "source": "run_HH_q3(.5, 10, 100)",
      "metadata": {
        "trusted": true
      },
      "outputs": [],
      "execution_count": null
    },
    {
      "cell_type": "code",
      "source": "run_HH_q3(.1, 100, 100)",
      "metadata": {
        "trusted": true
      },
      "outputs": [],
      "execution_count": null
    },
    {
      "cell_type": "code",
      "source": "fre = np.arange(10,1000,10)\nampl = 1\nwT = 2 * np.pi * fre\nV1 = ampl * np.sin(wT)\n\nplt.plot(fre,V1)\nplt.title('Voltage from frequency = 10 to 1000')\nplt.xlabel('frequency (hZ)')\nplt.ylabel('V')",
      "metadata": {
        "trusted": true
      },
      "outputs": [],
      "execution_count": null
    },
    {
      "cell_type": "markdown",
      "source": "Explanation about what happens when frequency and amplitude changes:\n\nFrom our graphs, we can see that the time between action potentials increases when frequency increases. When amplitude increases, the time between action potentials decreases.\n",
      "metadata": {}
    },
    {
      "cell_type": "code",
      "source": "def run_HH_q3_rk2(f, amp, time):\n    #f = np.arange(10,1000,10)\n\n        #amp * resistance = volts\n        # A * 1/g = V\n    wT = 2 * np.pi * f\n    V = amp * np.sin(wT)\n    epsilon = 0.01\n    t = np.arange(0, time, epsilon)\n\n    def dXdt(X, t): #units = mV / mS\n        #V = amp * np.sin(wT)\n        V = X[0:1]\n        m = X[1:2]\n        h = X[2:3]\n        n = X[3:4]\n\n        injection = .1\n        dVdt = (injection + (amp*np.sin(wT)) - I_Na(V, m, h) - I_K(V, n) - I_L(V)) / C_m \n        # Here the current injection I_injected = .1 uA\n\n        n0,tn = K_prop(V)\n        #set_trace()\n        m0,tm,h0,th = Na_prop(V)\n\n        dmdt = - (1.0/tm)*(m-m0)\n        dhdt = - (1.0/th)*(h-h0)\n        dndt = - (1.0/tn)*(n-n0)\n\n        out = np.concatenate([dVdt, dmdt, dhdt, dndt],0)\n        return out\n\n    #wT = 2 * np.pi * f\n    #V= amp * np.sin(wT)\n    #epsilon = 0.01\n    #t = np.arange(0, 3, epsilon)\n    y0 = np.float64([1,0,0,0])\n\n    state = odeint_rk2(dXdt, y0, t)\n\n    V = state[0]\n    m = state[1]\n    h = state[2]\n    n = state[3]\n\n    i_na = I_Na(V, m, h)\n    i_k = I_K(V, n)\n    i_l = I_L(V)\n    i_m = i_na + i_k + i_l\n    fig, ax = plt.subplots(1)\n    ax.set_title(\"Currents with RK2 Method where frequency = \" + str(f) + \", amplitude = \" + str(amp))\n    ax.set_xlabel(\"Time\")\n    #ax.plot(t, m**3, label = \"m^3\")\n    #ax.plot(t, h, label = \"h\")\n    #ax.plot(t, m**3*h, label= \"m^3h\")\n    #ax.plot(t, i_na, label=\"i_na\")\n    #ax.plot(t, i_k, label='i_k')\n    ax.plot(t, i_m, label='i_membrane')\n    #ax.plot(v_clamp, label='V_c')\n    ax.legend()\n\n    \n    return i_m\n",
      "metadata": {
        "trusted": true
      },
      "outputs": [],
      "execution_count": null
    },
    {
      "cell_type": "code",
      "source": "run_HH_q3_rk2(0.1, 10, 100)",
      "metadata": {
        "trusted": true
      },
      "outputs": [],
      "execution_count": null
    },
    {
      "cell_type": "code",
      "source": "def run_HH_q3_rk4(f, amp, time):\n    #f = np.arange(10,1000,10)\n\n        #amp * resistance = volts\n        # A * 1/g = V\n    wT = 2 * np.pi * f\n    V = amp * np.sin(wT)\n    epsilon = 0.01\n    t = np.arange(0, time, epsilon)\n\n    def dXdt(X, t): #units = mV / mS\n        #V = amp * np.sin(wT)\n        V = X[0:1]\n        m = X[1:2]\n        h = X[2:3]\n        n = X[3:4]\n\n        injection = .1\n        dVdt = (injection + (amp*np.sin(wT)) - I_Na(V, m, h) - I_K(V, n) - I_L(V)) / C_m \n        # Here the current injection I_injected = .1 uA\n\n        n0,tn = K_prop(V)\n        #set_trace()\n        m0,tm,h0,th = Na_prop(V)\n\n        dmdt = - (1.0/tm)*(m-m0)\n        dhdt = - (1.0/th)*(h-h0)\n        dndt = - (1.0/tn)*(n-n0)\n\n        out = np.concatenate([dVdt, dmdt, dhdt, dndt],0)\n        return out\n\n    #wT = 2 * np.pi * f\n    #V= amp * np.sin(wT)\n    #epsilon = 0.01\n    #t = np.arange(0, 3, epsilon)\n    y0 = np.float64([1,0,0,0])\n\n    state = odeint_rk4_2(dXdt, y0, t)\n\n    V = state[0]\n    m = state[1]\n    h = state[2]\n    n = state[3]\n\n    i_na = I_Na(V, m, h)\n    i_k = I_K(V, n)\n    i_l = I_L(V)\n    i_m = i_na + i_k + i_l\n    fig, ax = plt.subplots(1)\n    ax.set_title(\"Currents with RK4 Method where frequency = \" + str(f) + \", amplitude = \" + str(amp))\n    ax.set_xlabel(\"Time\")\n    #ax.plot(t, m**3, label = \"m^3\")\n    #ax.plot(t, h, label = \"h\")\n    #ax.plot(t, m**3*h, label= \"m^3h\")\n    #ax.plot(t, i_na, label=\"i_na\")\n    #ax.plot(t, i_k, label='i_k')\n    ax.plot(t, i_m, label='i_membrane')\n    #ax.plot(v_clamp, label='V_c')\n    ax.legend()\n    \n    return i_m\n\n    ",
      "metadata": {
        "trusted": true
      },
      "outputs": [],
      "execution_count": null
    },
    {
      "cell_type": "code",
      "source": "run_HH_q3_rk4(.1, 10, 100)",
      "metadata": {
        "trusted": true
      },
      "outputs": [],
      "execution_count": null
    },
    {
      "cell_type": "markdown",
      "source": "Explanation about Euler vs Runge-Kutta:\n\nThe RK4 method is more precise as it uses half-steps, so there are slight changes towards the end of the action potential as the RK4 method is a better approximation. See question 4 for a graph showing this error.",
      "metadata": {}
    },
    {
      "cell_type": "markdown",
      "source": "__Question 4__\nCompare the accuracy of the Euler integration with the RK second order.\nCalculate an approximate error and use it to monitor the error as the action potential is generated.\nHow does the error change in the Euler scheme in the different phases of the action potential?",
      "metadata": {}
    },
    {
      "cell_type": "code",
      "source": "time_1 = 100\nt_1 = np.arange(0, time_1, 0.01)\n\ni_m_Euler = run_HH_q3(0.1, 10, time_1)\ni_m_RK2 = run_HH_q3_rk2(0.1, 10, time_1)\ni_m_RK4 = run_HH_q3_rk4(0.1, 10, time_1)",
      "metadata": {
        "trusted": true
      },
      "outputs": [],
      "execution_count": null
    },
    {
      "cell_type": "code",
      "source": "fig, ax = plt.subplots(1)\n#ax.plot(t_1, i_m_Euler, label = \"Euler\")\n#ax.plot(t_1, i_m_RK2, label = \"RK2\")\nax.plot(t_1, i_m_RK4 - i_m_Euler, label = \"Euler Error\")\nax.plot(t_1, i_m_RK4 - i_m_RK2, label = \"RK2 Error\")\n\nEuler_Error = np.mean(np.sum(i_m_RK4 - i_m_Euler))\nprint(Euler_Error)\n\nRK2_Error = np.mean(np.sum(i_m_RK4 - i_m_RK2))\nprint(RK2_Error)\n\nEuler_Error_SEM = np.std(i_m_RK4 - i_m_Euler, ddof=1) / np.sqrt(np.size(i_m_RK4 - i_m_Euler))\nprint(Euler_Error_SEM)",
      "metadata": {
        "trusted": true
      },
      "outputs": [],
      "execution_count": null
    },
    {
      "cell_type": "code",
      "source": "error_arr = []\nerror_sum_arr = []\nerror_sum = 0\n\nfor i in np.arange(len(i_m_RK4)):\n    error = i_m_RK4[i] - i_m_Euler[i]\n    error_sum = error_sum + np.abs(error)\n    error_sum_arr.append(error_sum)\n    error_arr.append(error)\n    \nerror_arr2 = []\nerror_sum_arr2 = []\nerror_sum2 = 0\n\nfor i in np.arange(len(i_m_RK4)):\n    error2 = i_m_RK4[i] - i_m_RK2[i]\n    error_sum2 = error_sum2 + np.abs(error2)\n    error_sum_arr2.append(error_sum2)\n    error_arr2.append(error2)\n\nfig, ax = plt.subplots(1)\nax.plot(np.arange(len(i_m_RK4)), error_sum_arr, label=\"Euler\")\nax.plot(np.arange(len(i_m_RK4)), error_sum_arr2, label=\"RK2\")\nax.legend()\nax.set_xlabel(\"Time in milliseconds\")\nax.set_ylabel(\"Error\")\nax.set_title(\"Comparing Error of Euler and RK2 Methods\")",
      "metadata": {
        "trusted": true
      },
      "outputs": [],
      "execution_count": null
    },
    {
      "cell_type": "markdown",
      "source": "Explanation of the Errors\n\nWe can see that the Euler error sum is a step function, meaning that each additional action potential of the Euler Method is different than the RK4 method, which produces this pattern of increasing error. Euler's method is unconditionally unstable for un-damped oscillating systems, and this is what is causing the step function, as we took the absolute value of the error. The action potential spiking at different times in Euler vs RK4 methods is what is causing this step pattern.\n\nFor the RK2 method, this results in currents that are much closer to the RK4 method. There is also a slight step pattern in the errors visible as time increases, but these are much smaller compared to Euler.\n\nThese methods that rely on the Taylor Series are using derivatives, so when the slopes are not of the same sign, the error will be more pronounced. Since the action potential is oscillating, this makes the methods being more stable with the higher order that we go, which is shown in the smaller error of the second-order RK and the fourth-order RK.",
      "metadata": {}
    },
    {
      "cell_type": "code",
      "source": "",
      "metadata": {
        "trusted": true
      },
      "outputs": [],
      "execution_count": null
    },
    {
      "cell_type": "code",
      "source": "",
      "metadata": {
        "trusted": true
      },
      "outputs": [],
      "execution_count": null
    }
  ]
}